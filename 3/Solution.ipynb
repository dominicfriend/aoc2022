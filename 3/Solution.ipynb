{
 "cells": [
  {
   "cell_type": "markdown",
   "id": "555a3d65",
   "metadata": {},
   "source": [
    "# Day 3: Rucksack Reorganization\n",
    "## Part 1\n",
    "\n",
    "One Elf has the important job of loading all of the rucksacks with supplies for the jungle journey. Unfortunately, that Elf didn't quite follow the packing instructions, and so a few items now need to be rearranged.\n",
    "\n",
    "Each rucksack has two large compartments. All items of a given type are meant to go into exactly one of the two compartments. The Elf that did the packing failed to follow this rule for exactly one item type per rucksack.\n",
    "\n",
    "The Elves have made a list of all of the items currently in each rucksack (your puzzle input), but they need your help finding the errors. Every item type is identified by a single lowercase or uppercase letter (that is, a and A refer to different types of items).\n",
    "\n",
    "The list of items for each rucksack is given as characters all on a single line. A given rucksack always has the same number of items in each of its two compartments, so the first half of the characters represent items in the first compartment, while the second half of the characters represent items in the second compartment.\n",
    "\n",
    "For example, suppose you have the following list of contents from six rucksacks:\n",
    "\n",
    "```\n",
    "vJrwpWtwJgWrhcsFMMfFFhFp\n",
    "jqHRNqRjqzjGDLGLrsFMfFZSrLrFZsSL\n",
    "PmmdzqPrVvPwwTWBwg\n",
    "wMqvLMZHhHMvwLHjbvcjnnSBnvTQFn\n",
    "ttgJtRGJQctTZtZT\n",
    "CrZsJsPPZsGzwwsLwLmpwMDw\n",
    "```\n",
    "\n",
    "The first rucksack contains the items `vJrwpWtwJgWrhcsFMMfFFhFp`, which means its first compartment contains the items `vJrwpWtwJgWr`, while the second compartment contains the items `hcsFMMfFFhFp`. The only item type that appears in both compartments is lowercase p.\n",
    "The second rucksack's compartments contain `jqHRNqRjqzjGDLGL` and `rsFMfFZSrLrFZsSL`. The only item type that appears in both compartments is uppercase L.\n",
    "The third rucksack's compartments contain `PmmdzqPrV` and `vPwwTWBwg`; the only common item type is uppercase P.\n",
    "The fourth rucksack's compartments only share item type v.\n",
    "The fifth rucksack's compartments only share item type t.\n",
    "The sixth rucksack's compartments only share item type s.\n",
    "To help prioritize item rearrangement, every item type can be converted to a priority:\n",
    "\n",
    "Lowercase item types a through z have priorities 1 through 26.\n",
    "Uppercase item types A through Z have priorities 27 through 52.\n",
    "In the above example, the priority of the item type that appears in both compartments of each rucksack is 16 (p), 38 (L), 42 (P), 22 (v), 20 (t), and 19 (s); the sum of these is 157.\n",
    "\n",
    "Find the item type that appears in both compartments of each rucksack. What is the sum of the priorities of those item types?"
   ]
  },
  {
   "cell_type": "code",
   "execution_count": 17,
   "id": "5db1f223",
   "metadata": {},
   "outputs": [],
   "source": [
    "import pandas as pd\n",
    "from collections import Counter\n",
    "import re"
   ]
  },
  {
   "cell_type": "code",
   "execution_count": 18,
   "id": "85698c94",
   "metadata": {},
   "outputs": [],
   "source": [
    "def value_cal(x: str):\n",
    "    \"\"\"Using the ord (unicode to int) calculate the priority mapping\n",
    "    [a-z] = [ 1 -> 26]\n",
    "    [A-Z] = [27 -> 52]\n",
    "    \"\"\"\n",
    "    if x.islower():\n",
    "        return ord(x) - 96\n",
    "    return ord(x) - 38"
   ]
  },
  {
   "cell_type": "code",
   "execution_count": 47,
   "id": "5e271783",
   "metadata": {
    "scrolled": true
   },
   "outputs": [
    {
     "data": {
      "text/plain": [
       "8243"
      ]
     },
     "execution_count": 47,
     "metadata": {},
     "output_type": "execute_result"
    }
   ],
   "source": [
    "# Read in the puzzle\n",
    "part1 = pd.read_table(\"input.txt\", header=None, dtype=\"string\")\n",
    "# Set an initial column name\n",
    "part1.columns = [\"Rucksack\"]\n",
    "# Get a count of the number of items by getting the length of each string\n",
    "part1[\"Items\"] = part1[\"Rucksack\"].str.len()\n",
    "# Calculate the halfway point which will be used for the boundary between compartments\n",
    "part1[\"Midpoint\"] = (part1[\"Items\"] / 2).astype(int)\n",
    "# For each row, using the midpoint value, slice off the left compartment\n",
    "part1[\"Left\"] = [ row.Rucksack[slice(0, row.Midpoint)] for row in part1.itertuples(index=False) ]\n",
    "# For each row, using the midpoint value, slice off the right compartment\n",
    "part1[\"Right\"] = [ row.Rucksack[slice(row.Midpoint, row.Items)] for row in part1.itertuples(index=False) ]\n",
    "# Using the power of set intersection find the common character in each string\n",
    "part1[\"Common\"] = [ str(*set.intersection(set(row.Left), set(row.Right))) for row in part1.itertuples(index=False) ]\n",
    "# Use the value_cal function above to map the character to an int priority\n",
    "part1[\"Value\"] = part1[\"Common\"].map(value_cal)\n",
    "# Sum all the priorities\n",
    "part1[\"Value\"].sum()"
   ]
  },
  {
   "cell_type": "markdown",
   "id": "67166c24",
   "metadata": {},
   "source": [
    "## Part Two\n",
    "As you finish identifying the misplaced items, the Elves come to you with another issue.\n",
    "\n",
    "For safety, the Elves are divided into groups of three. Every Elf carries a badge that identifies their group. For efficiency, within each group of three Elves, the badge is the only item type carried by all three Elves. That is, if a group's badge is item type B, then all three Elves will have item type B somewhere in their rucksack, and at most two of the Elves will be carrying any other item type.\n",
    "\n",
    "The problem is that someone forgot to put this year's updated authenticity sticker on the badges. All of the badges need to be pulled out of the rucksacks so the new authenticity stickers can be attached.\n",
    "\n",
    "Additionally, nobody wrote down which item type corresponds to each group's badges. The only way to tell which item type is the right one is by finding the one item type that is common between all three Elves in each group.\n",
    "\n",
    "Every set of three lines in your list corresponds to a single group, but each group can have a different badge item type. So, in the above example, the first group's rucksacks are the first three lines:\n",
    "\n",
    "```\n",
    "vJrwpWtwJgWrhcsFMMfFFhFp\n",
    "jqHRNqRjqzjGDLGLrsFMfFZSrLrFZsSL\n",
    "PmmdzqPrVvPwwTWBwg\n",
    "```\n",
    "\n",
    "And the second group's rucksacks are the next three lines:\n",
    "\n",
    "```\n",
    "wMqvLMZHhHMvwLHjbvcjnnSBnvTQFn\n",
    "ttgJtRGJQctTZtZT\n",
    "CrZsJsPPZsGzwwsLwLmpwMDw\n",
    "```\n",
    "\n",
    "In the first group, the only item type that appears in all three rucksacks is lowercase r; this must be their badges. In the second group, their badge item type must be Z.\n",
    "\n",
    "Priorities for these items must still be found to organize the sticker attachment efforts: here, they are 18 (r) for the first group and 52 (Z) for the second group. The sum of these is 70.\n",
    "\n",
    "Find the item type that corresponds to the badges of each three-Elf group. What is the sum of the priorities of those item types?"
   ]
  },
  {
   "cell_type": "code",
   "execution_count": 61,
   "id": "d4fcbe64",
   "metadata": {},
   "outputs": [
    {
     "data": {
      "text/plain": [
       "2631"
      ]
     },
     "execution_count": 61,
     "metadata": {},
     "output_type": "execute_result"
    }
   ],
   "source": [
    "# Use a regex to extract three rucksacks at once\n",
    "part2 = re.findall(r'(\\w+\\n\\w+\\n\\w+)', open(\"input.txt\", \"r\").read(), re.MULTILINE)\n",
    "# Create a DataFrame for the group, then split by the newline character into individual columns\n",
    "part2 = pd.DataFrame(part2, columns=[\"Group\"], dtype=\"string\")[\"Group\"].str.split('\\n', expand=True)\n",
    "# Name the new columns\n",
    "part2.columns = [\"Elf1\", \"Elf2\", \"Elf3\"]\n",
    "# Using the power of set intersection find the common character in all the strings\n",
    "part2[\"Badge\"] = [ str(*set.intersection(set(row.Elf1), set(row.Elf2), set(row.Elf3))) for row in part2.itertuples(index=False) ]\n",
    "# Use the value_cal function above to map the character to an int priority\n",
    "part2[\"Value\"] = part2[\"Badge\"].map(value_cal)\n",
    "# Sum all the priorities \n",
    "part2[\"Value\"].sum()"
   ]
  }
 ],
 "metadata": {
  "kernelspec": {
   "display_name": "Python 3 (ipykernel)",
   "language": "python",
   "name": "python3"
  },
  "language_info": {
   "codemirror_mode": {
    "name": "ipython",
    "version": 3
   },
   "file_extension": ".py",
   "mimetype": "text/x-python",
   "name": "python",
   "nbconvert_exporter": "python",
   "pygments_lexer": "ipython3",
   "version": "3.10.8"
  }
 },
 "nbformat": 4,
 "nbformat_minor": 5
}
