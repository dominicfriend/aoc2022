{
 "cells": [
  {
   "cell_type": "markdown",
   "id": "42df3d19",
   "metadata": {},
   "source": [
    "# Day 2: Rock Paper Scissors \n",
    "## Part 1\n",
    "The Elves begin to set up camp on the beach. To decide whose tent gets to be closest to the snack storage, a giant Rock Paper Scissors tournament is already in progress.\n",
    "\n",
    "Rock Paper Scissors is a game between two players. Each game contains many rounds; in each round, the players each simultaneously choose one of Rock, Paper, or Scissors using a hand shape. Then, a winner for that round is selected: Rock defeats Scissors, Scissors defeats Paper, and Paper defeats Rock. If both players choose the same shape, the round instead ends in a draw.\n",
    "\n",
    "Appreciative of your help yesterday, one Elf gives you an encrypted strategy guide (your puzzle input) that they say will be sure to help you win. \"The first column is what your opponent is going to play: A for Rock, B for Paper, and C for Scissors. The second column--\" Suddenly, the Elf is called away to help with someone's tent.\n",
    "\n",
    "The second column, you reason, must be what you should play in response: X for Rock, Y for Paper, and Z for Scissors. Winning every time would be suspicious, so the responses must have been carefully chosen.\n",
    "\n",
    "The winner of the whole tournament is the player with the highest score. Your total score is the sum of your scores for each round. The score for a single round is the score for the shape you selected (1 for Rock, 2 for Paper, and 3 for Scissors) plus the score for the outcome of the round (0 if you lost, 3 if the round was a draw, and 6 if you won).\n",
    "\n",
    "Since you can't be sure if the Elf is trying to help you or trick you, you should calculate the score you would get if you were to follow the strategy guide.\n",
    "\n",
    "For example, suppose you were given the following strategy guide:\n",
    "\n",
    "```\n",
    "A Y\n",
    "B X\n",
    "C Z\n",
    "```\n",
    "\n",
    "This strategy guide predicts and recommends the following:\n",
    "\n",
    "In the first round, your opponent will choose Rock (A), and you should choose Paper (Y). This ends in a win for you with a score of 8 (2 because you chose Paper + 6 because you won).\n",
    "In the second round, your opponent will choose Paper (B), and you should choose Rock (X). This ends in a loss for you with a score of 1 (1 + 0).\n",
    "The third round is a draw with both players choosing Scissors, giving you a score of 3 + 3 = 6.\n",
    "In this example, if you were to follow the strategy guide, you would get a total score of 15 (8 + 1 + 6).\n",
    "\n",
    "What would your total score be if everything goes exactly according to your strategy guide?"
   ]
  },
  {
   "cell_type": "code",
   "execution_count": 1,
   "id": "c3d6fa21",
   "metadata": {},
   "outputs": [],
   "source": [
    "import pandas as pd"
   ]
  },
  {
   "cell_type": "code",
   "execution_count": 2,
   "id": "583b306e",
   "metadata": {},
   "outputs": [],
   "source": [
    "def cal_result(opp: str, me: str):\n",
    "    match (opp, me):\n",
    "        case (\"Rock\", \"Scissors\") | (\"Paper\", \"Rock\") | (\"Scissors\", \"Paper\"):\n",
    "            return \"Lose\"\n",
    "        \n",
    "        case _ if opp == me:\n",
    "            return \"Draw\"\n",
    "        \n",
    "        case _:\n",
    "            return \"Win\""
   ]
  },
  {
   "cell_type": "code",
   "execution_count": 3,
   "id": "e3c03576",
   "metadata": {},
   "outputs": [
    {
     "data": {
      "text/plain": [
       "13484"
      ]
     },
     "execution_count": 3,
     "metadata": {},
     "output_type": "execute_result"
    }
   ],
   "source": [
    "part1 = pd.read_table(\"input.txt\", sep=\" \", header=None)\n",
    "part1.columns = [\"Opponent\", \"Me\"]\n",
    "part1.replace({\n",
    "    'A': 'Rock',\n",
    "    'B': 'Paper',\n",
    "    'C': 'Scissors',\n",
    "    'X': 'Rock',\n",
    "    'Y': 'Paper',\n",
    "    'Z': 'Scissors'\n",
    "}, inplace=True)\n",
    "part1[\"Choice Points\"] = part1[\"Me\"].replace({\n",
    "    'Rock': 1,\n",
    "    'Paper': 2,\n",
    "    'Scissors': 3\n",
    "})\n",
    "part1[\"Result\"] = [ cal_result(row.Opponent, row.Me) for row in part1[[\"Opponent\", \"Me\"]].itertuples(index=False) ]\n",
    "part1[\"Result Points\"] = part1[\"Result\"].replace({\n",
    "    'Win': 6,\n",
    "    'Draw': 3,\n",
    "    'Lose': 0\n",
    "})\n",
    "part1[[\"Choice Points\", \"Result Points\"]].sum().sum()"
   ]
  },
  {
   "cell_type": "markdown",
   "id": "1d0c605d",
   "metadata": {},
   "source": [
    "## Part Two\n",
    "The Elf finishes helping with the tent and sneaks back over to you. \"Anyway, the second column says how the round needs to end: X means you need to lose, Y means you need to end the round in a draw, and Z means you need to win. Good luck!\"\n",
    "\n",
    "The total score is still calculated in the same way, but now you need to figure out what shape to choose so the round ends as indicated. The example above now goes like this:\n",
    "\n",
    "In the first round, your opponent will choose Rock (A), and you need the round to end in a draw (Y), so you also choose Rock. This gives you a score of 1 + 3 = 4.\n",
    "In the second round, your opponent will choose Paper (B), and you choose Rock so you lose (X) with a score of 1 + 0 = 1.\n",
    "In the third round, you will defeat your opponent's Scissors with Rock for a score of 1 + 6 = 7.\n",
    "Now that you're correctly decrypting the ultra top secret strategy guide, you would get a total score of 12.\n",
    "\n",
    "Following the Elf's instructions for the second column, what would your total score be if everything goes exactly according to your strategy guide?"
   ]
  },
  {
   "cell_type": "code",
   "execution_count": 20,
   "id": "7497bb41",
   "metadata": {},
   "outputs": [],
   "source": [
    "def cal_play(opp: str, result: str):\n",
    "    match (opp, result):\n",
    "        case (_, \"Draw\"):\n",
    "            return opp\n",
    "        \n",
    "        case (\"Rock\", \"Win\"):\n",
    "                return \"Paper\"\n",
    "            \n",
    "        case (\"Paper\", \"Win\"):\n",
    "            return \"Scissors\"\n",
    "            \n",
    "        case (\"Scissors\", \"Win\"):\n",
    "            return \"Rock\"\n",
    "            \n",
    "        case (\"Rock\", \"Lose\"):\n",
    "            return \"Scissors\"\n",
    "            \n",
    "        case (\"Paper\", \"Lose\"):\n",
    "            return \"Rock\"\n",
    "            \n",
    "        case (\"Scissors\", \"Lose\"):\n",
    "            return \"Paper\""
   ]
  },
  {
   "cell_type": "code",
   "execution_count": 21,
   "id": "39bbf95e",
   "metadata": {},
   "outputs": [
    {
     "data": {
      "text/plain": [
       "13433"
      ]
     },
     "execution_count": 21,
     "metadata": {},
     "output_type": "execute_result"
    }
   ],
   "source": [
    "part2 = pd.read_table(\"input.txt\", sep=\" \", header=None)\n",
    "part2.columns = [\"Opponent\", \"Result\"]\n",
    "part2.replace({\n",
    "    'A': 'Rock',\n",
    "    'B': 'Paper',\n",
    "    'C': 'Scissors',\n",
    "    'X': 'Lose',\n",
    "    'Y': 'Draw',\n",
    "    'Z': 'Win'\n",
    "}, inplace=True)\n",
    "part2[\"Result Points\"] = part2[\"Result\"].replace({\n",
    "    'Win': 6,\n",
    "    'Draw': 3,\n",
    "    'Lose': 0\n",
    "})\n",
    "part2[\"Me\"] = [ cal_play(row.Opponent, row.Result) for row in part2[[\"Opponent\", \"Result\"]].itertuples(index=False) ]\n",
    "part2[\"Choice Points\"] = part2[\"Me\"].replace({\n",
    "    'Rock': 1,\n",
    "    'Paper': 2,\n",
    "    'Scissors': 3\n",
    "})\n",
    "part2[[\"Choice Points\", \"Result Points\"]].sum().sum()"
   ]
  }
 ],
 "metadata": {
  "kernelspec": {
   "display_name": "Python 3 (ipykernel)",
   "language": "python",
   "name": "python3"
  },
  "language_info": {
   "codemirror_mode": {
    "name": "ipython",
    "version": 3
   },
   "file_extension": ".py",
   "mimetype": "text/x-python",
   "name": "python",
   "nbconvert_exporter": "python",
   "pygments_lexer": "ipython3",
   "version": "3.10.8"
  }
 },
 "nbformat": 4,
 "nbformat_minor": 5
}
