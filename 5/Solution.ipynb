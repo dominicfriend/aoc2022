{
 "cells": [
  {
   "cell_type": "markdown",
   "id": "6bffdb6a",
   "metadata": {},
   "source": [
    "# Day 5: Supply Stacks\n",
    "## Part 1\n",
    "\n",
    "The expedition can depart as soon as the final supplies have been unloaded from the ships. Supplies are stored in stacks of marked crates, but because the needed supplies are buried under many other crates, the crates need to be rearranged.\n",
    "\n",
    "The ship has a giant cargo crane capable of moving crates between stacks. To ensure none of the crates get crushed or fall over, the crane operator will rearrange them in a series of carefully-planned steps. After the crates are rearranged, the desired crates will be at the top of each stack.\n",
    "\n",
    "The Elves don't want to interrupt the crane operator during this delicate procedure, but they forgot to ask her which crate will end up where, and they want to be ready to unload them as soon as possible so they can embark.\n",
    "\n",
    "They do, however, have a drawing of the starting stacks of crates and the rearrangement procedure (your puzzle input). For example:\n",
    "\n",
    "```\n",
    "    [D]    \n",
    "[N] [C]    \n",
    "[Z] [M] [P]\n",
    " 1   2   3 \n",
    "\n",
    "move 1 from 2 to 1\n",
    "move 3 from 1 to 3\n",
    "move 2 from 2 to 1\n",
    "move 1 from 1 to 2\n",
    "```\n",
    "\n",
    "In this example, there are three stacks of crates. Stack 1 contains two crates: crate Z is on the bottom, and crate N is on top. Stack 2 contains three crates; from bottom to top, they are crates M, C, and D. Finally, stack 3 contains a single crate, P.\n",
    "\n",
    "Then, the rearrangement procedure is given. In each step of the procedure, a quantity of crates is moved from one stack to a different stack. In the first step of the above rearrangement procedure, one crate is moved from stack 2 to stack 1, resulting in this configuration:\n",
    "\n",
    "```\n",
    "[D]        \n",
    "[N] [C]    \n",
    "[Z] [M] [P]\n",
    " 1   2   3 \n",
    "```\n",
    " \n",
    "In the second step, three crates are moved from stack 1 to stack 3. Crates are moved one at a time, so the first crate to be moved (D) ends up below the second and third crates:\n",
    "\n",
    "```\n",
    "        [Z]\n",
    "        [N]\n",
    "    [C] [D]\n",
    "    [M] [P]\n",
    " 1   2   3\n",
    "```\n",
    "\n",
    "Then, both crates are moved from stack 2 to stack 1. Again, because crates are moved one at a time, crate C ends up below crate M:\n",
    "\n",
    "```\n",
    "        [Z]\n",
    "        [N]\n",
    "[M]     [D]\n",
    "[C]     [P]\n",
    " 1   2   3\n",
    "```\n",
    "\n",
    "Finally, one crate is moved from stack 1 to stack 2:\n",
    "\n",
    "```\n",
    "        [Z]\n",
    "        [N]\n",
    "        [D]\n",
    "[C] [M] [P]\n",
    " 1   2   3\n",
    "```\n",
    "\n",
    "The Elves just need to know which crate will end up on top of each stack; in this example, the top crates are C in stack 1, M in stack 2, and Z in stack 3, so you should combine these together and give the Elves the message CMZ.\n",
    "\n",
    "After the rearrangement procedure completes, what crate ends up on top of each stack?"
   ]
  },
  {
   "cell_type": "code",
   "execution_count": 1,
   "id": "8dc82d65",
   "metadata": {},
   "outputs": [],
   "source": [
    "import re\n",
    "import copy\n",
    "import numpy as np"
   ]
  },
  {
   "cell_type": "code",
   "execution_count": 2,
   "id": "f17bb290",
   "metadata": {},
   "outputs": [],
   "source": [
    "def parse_start_state(stack_diagram: str):\n",
    "    \"\"\"Take the text based representation of the initial stack state and convert it into a list of lists\n",
    "    \"\"\"\n",
    "    start_state = np.array(re.findall(r'(?:(\\[\\w\\]|\\s{3})\\s)', stack_diagram, re.MULTILINE)).reshape(8,9)\n",
    "    start_state = np.char.strip(start_state)\n",
    "    start_state = np.char.replace(start_state, '[', '')\n",
    "    start_state = np.char.replace(start_state, ']', '')\n",
    "    start_state = start_state.T.tolist()\n",
    "    start_state = [ list(''.join(stack))[::-1] for stack in start_state ]\n",
    "    return start_state"
   ]
  },
  {
   "cell_type": "code",
   "execution_count": 3,
   "id": "9c2f56dc",
   "metadata": {},
   "outputs": [],
   "source": [
    "def move_crates(num: int, stack_from: int, stack_to: int, state: list):\n",
    "    \"\"\"Move crates on at a time from one stack to another using list pop and extend\n",
    "    \"\"\"\n",
    "    for i in range(num):\n",
    "        crate = state[stack_from].pop()\n",
    "        state[stack_to].extend(crate)"
   ]
  },
  {
   "cell_type": "code",
   "execution_count": 4,
   "id": "e3914a14",
   "metadata": {},
   "outputs": [],
   "source": [
    "def move_multiple_crates(num: int, stack_from: int, stack_to: int, state: list):\n",
    "    \"\"\"Move multiple crate at once. Store the crates popped off the stack and add them,\n",
    "    preserving original ordering onto the other stack\n",
    "    \"\"\"\n",
    "    temp_stack = []\n",
    "    for i in range(num):\n",
    "        temp_stack.extend(state[stack_from].pop())\n",
    "    state[stack_to].extend(temp_stack[::-1])"
   ]
  },
  {
   "cell_type": "code",
   "execution_count": 5,
   "id": "8bc07bd0",
   "metadata": {},
   "outputs": [
    {
     "data": {
      "text/plain": [
       "'TGWSMRBPN'"
      ]
     },
     "execution_count": 5,
     "metadata": {},
     "output_type": "execute_result"
    }
   ],
   "source": [
    "# Split the puzzle input\n",
    "stack_diagram, part1 = open(\"input.txt\", \"r\").read().split('\\n\\n')\n",
    "# Parse the initial stack state into a list of lists\n",
    "start_state = parse_start_state(stack_diagram)\n",
    "# Make a separate copy of the starting state to mutate during part1\n",
    "part1_state = copy.deepcopy(start_state)\n",
    "# Parse out all the moves into tuples\n",
    "moves = re.findall(r'\\w* (\\d+) \\w* (\\d+) \\w* (\\d+)', part1, re.MULTILINE)\n",
    "# Process each move by moving one crate at a time\n",
    "for move in moves:\n",
    "    move_crates(int(move[0]), int(move[1])-1, int(move[2])-1, part1_state)\n",
    "# Print the top crate in each stack\n",
    "''.join([ crate[-1] for crate in part1_state ])"
   ]
  },
  {
   "cell_type": "markdown",
   "id": "edb9ddca",
   "metadata": {},
   "source": [
    "## Part Two\n",
    "\n",
    "As you watch the crane operator expertly rearrange the crates, you notice the process isn't following your prediction.\n",
    "\n",
    "Some mud was covering the writing on the side of the crane, and you quickly wipe it away. The crane isn't a CrateMover 9000 - it's a CrateMover 9001.\n",
    "\n",
    "The CrateMover 9001 is notable for many new and exciting features: air conditioning, leather seats, an extra cup holder, and the ability to pick up and move multiple crates at once.\n",
    "\n",
    "Again considering the example above, the crates begin in the same configuration:\n",
    "\n",
    "```\n",
    "    [D]    \n",
    "[N] [C]    \n",
    "[Z] [M] [P]\n",
    " 1   2   3 \n",
    "```\n",
    "\n",
    "Moving a single crate from stack 2 to stack 1 behaves the same as before:\n",
    "\n",
    "```\n",
    "[D]        \n",
    "[N] [C]    \n",
    "[Z] [M] [P]\n",
    " 1   2   3 \n",
    "```\n",
    "\n",
    "However, the action of moving three crates from stack 1 to stack 3 means that those three moved crates stay in the same order, resulting in this new configuration:\n",
    "\n",
    "```\n",
    "        [D]\n",
    "        [N]\n",
    "    [C] [Z]\n",
    "    [M] [P]\n",
    " 1   2   3\n",
    "```\n",
    "\n",
    "Next, as both crates are moved from stack 2 to stack 1, they retain their order as well:\n",
    "\n",
    "```\n",
    "        [D]\n",
    "        [N]\n",
    "[C]     [Z]\n",
    "[M]     [P]\n",
    " 1   2   3\n",
    "```\n",
    "\n",
    "Finally, a single crate is still moved from stack 1 to stack 2, but now it's crate C that gets moved:\n",
    "\n",
    "```\n",
    "        [D]\n",
    "        [N]\n",
    "        [Z]\n",
    "[M] [C] [P]\n",
    " 1   2   3\n",
    "```\n",
    "\n",
    "In this example, the CrateMover 9001 has put the crates in a totally different order: MCD.\n",
    "\n",
    "Before the rearrangement process finishes, update your simulation so that the Elves know where they should stand to be ready to unload the final supplies. After the rearrangement procedure completes, what crate ends up on top of each stack?"
   ]
  },
  {
   "cell_type": "code",
   "execution_count": 6,
   "id": "86aa8b7f",
   "metadata": {},
   "outputs": [
    {
     "data": {
      "text/plain": [
       "'TZLTLWRNF'"
      ]
     },
     "execution_count": 6,
     "metadata": {},
     "output_type": "execute_result"
    }
   ],
   "source": [
    "# Make a separate copy of the starting state to mutate during part2\n",
    "part2_state = copy.deepcopy(start_state)\n",
    "# Process each move by moving multiple crate at once\n",
    "for move in moves:\n",
    "    move_multiple_crates(int(move[0]), int(move[1])-1, int(move[2])-1, part2_state)\n",
    "# Print the top crate in each stack\n",
    "''.join([ crate[-1] for crate in part2_state ])"
   ]
  }
 ],
 "metadata": {
  "kernelspec": {
   "display_name": "Python 3 (ipykernel)",
   "language": "python",
   "name": "python3"
  },
  "language_info": {
   "codemirror_mode": {
    "name": "ipython",
    "version": 3
   },
   "file_extension": ".py",
   "mimetype": "text/x-python",
   "name": "python",
   "nbconvert_exporter": "python",
   "pygments_lexer": "ipython3",
   "version": "3.10.8"
  }
 },
 "nbformat": 4,
 "nbformat_minor": 5
}
