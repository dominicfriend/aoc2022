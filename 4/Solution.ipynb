{
 "cells": [
  {
   "cell_type": "markdown",
   "id": "59cbd242",
   "metadata": {},
   "source": [
    "# Day 4: Camp Cleanup\n",
    "## Part 1\n",
    "Space needs to be cleared before the last supplies can be unloaded from the ships, and so several Elves have been assigned the job of cleaning up sections of the camp. Every section has a unique ID number, and each Elf is assigned a range of section IDs.\n",
    "\n",
    "However, as some of the Elves compare their section assignments with each other, they've noticed that many of the assignments overlap. To try to quickly find overlaps and reduce duplicated effort, the Elves pair up and make a big list of the section assignments for each pair (your puzzle input).\n",
    "\n",
    "For example, consider the following list of section assignment pairs:\n",
    "\n",
    "```\n",
    "2-4,6-8\n",
    "2-3,4-5\n",
    "5-7,7-9\n",
    "2-8,3-7\n",
    "6-6,4-6\n",
    "2-6,4-8\n",
    "```\n",
    "\n",
    "For the first few pairs, this list means:\n",
    "\n",
    "Within the first pair of Elves, the first Elf was assigned sections 2-4 (sections 2, 3, and 4), while the second Elf was assigned sections 6-8 (sections 6, 7, 8).\n",
    "The Elves in the second pair were each assigned two sections.\n",
    "The Elves in the third pair were each assigned three sections: one got sections 5, 6, and 7, while the other also got 7, plus 8 and 9.\n",
    "This example list uses single-digit section IDs to make it easier to draw; your actual list might contain larger numbers. Visually, these pairs of section assignments look like this:\n",
    "\n",
    "```\n",
    ".234.....  2-4\n",
    ".....678.  6-8\n",
    "````\n",
    "\n",
    "```\n",
    ".23......  2-3\n",
    "...45....  4-5\n",
    "```\n",
    "\n",
    "```\n",
    "....567..  5-7\n",
    "......789  7-9\n",
    "```\n",
    "\n",
    "```\n",
    ".2345678.  2-8\n",
    "..34567..  3-7\n",
    "```\n",
    "\n",
    "```\n",
    ".....6...  6-6\n",
    "...456...  4-6\n",
    "```\n",
    "\n",
    "```\n",
    ".23456...  2-6\n",
    "...45678.  4-8\n",
    "```\n",
    "\n",
    "Some of the pairs have noticed that one of their assignments fully contains the other. For example, `2-8` fully contains `3-7`, and `6-6` is fully contained by `4-6`. In pairs where one assignment fully contains the other, one Elf in the pair would be exclusively cleaning sections their partner will already be cleaning, so these seem like the most in need of reconsideration. In this example, there are 2 such pairs.\n",
    "\n",
    "In how many assignment pairs does one range fully contain the other?"
   ]
  },
  {
   "cell_type": "code",
   "execution_count": 1,
   "id": "b8a3da4a",
   "metadata": {},
   "outputs": [],
   "source": [
    "import pandas as pd\n",
    "import numpy as np"
   ]
  },
  {
   "cell_type": "code",
   "execution_count": 2,
   "id": "7d8cab22",
   "metadata": {},
   "outputs": [],
   "source": [
    "def convert_to_range(x: str):\n",
    "    \"\"\"Use NumPy arange to create a full range from a start and stop position.\n",
    "    Stop is exclusive so +1. Return as a set.\n",
    "    \"\"\"\n",
    "    start, stop = x.split('-')\n",
    "    return set(np.arange(int(start), int(stop) + 1))"
   ]
  },
  {
   "cell_type": "code",
   "execution_count": 3,
   "id": "e0aa8d3a",
   "metadata": {},
   "outputs": [
    {
     "data": {
      "text/plain": [
       "True     532\n",
       "False    468\n",
       "dtype: int64"
      ]
     },
     "execution_count": 3,
     "metadata": {},
     "output_type": "execute_result"
    }
   ],
   "source": [
    "# Read in the puzzle\n",
    "part1 = pd.read_csv(\"input.txt\", header=None)\n",
    "# Applymap the convert to range function\n",
    "part1 = part1.applymap(convert_to_range)\n",
    "# Set initial column names\n",
    "part1.columns = [\"Elf1\", \"Elf2\"]\n",
    "# Find out if Elf 1 is a subset of Elf2\n",
    "part1[\"Elf1 Overlap\"] = [ row.Elf1.issubset(row.Elf2) for row in part1.itertuples(index=False) ] \n",
    "# Find out if Elf 2 is a subset of Elf1\n",
    "part1[\"Elf2 Overlap\"] = [ row.Elf2.issubset(row.Elf1) for row in part1.itertuples(index=False) ]\n",
    "# Where any value in either overlap column is True return True. Count the values.\n",
    "# We're interested in the True count\n",
    "part1[[\"Elf1 Overlap\", \"Elf2 Overlap\"]].any(axis=1).value_counts()"
   ]
  },
  {
   "cell_type": "markdown",
   "id": "f680e84d",
   "metadata": {},
   "source": [
    "## Part Two\n",
    "It seems like there is still quite a bit of duplicate work planned. Instead, the Elves would like to know the number of pairs that overlap at all.\n",
    "\n",
    "In the above example, the first two pairs (`2-4,6-8` and `2-3,4-5`) don't overlap, while the remaining four pairs (`5-7,7-9`, `2-8,3-7`, `6-6,4-6`, and `2-6,4-8`) do overlap:\n",
    "\n",
    "`5-7,7-9` overlaps in a single section, 7.\n",
    "`2-8,3-7` overlaps all of the sections 3 through 7.\n",
    "`6-6,4-6` overlaps in a single section, 6.\n",
    "`2-6,4-8` overlaps in sections 4, 5, and 6.\n",
    "So, in this example, the number of overlapping assignment pairs is 4.\n",
    "\n",
    "In how many assignment pairs do the ranges overlap?"
   ]
  },
  {
   "cell_type": "code",
   "execution_count": 4,
   "id": "102e9f1e",
   "metadata": {},
   "outputs": [
    {
     "data": {
      "text/plain": [
       "False    854\n",
       "True     146\n",
       "Name: Disjoint, dtype: int64"
      ]
     },
     "execution_count": 4,
     "metadata": {},
     "output_type": "execute_result"
    }
   ],
   "source": [
    "# Read in the puzzle\n",
    "part2 = pd.read_csv(\"input.txt\", header=None)\n",
    "# Applymap the convert to range function\n",
    "part2 = part2.applymap(convert_to_range)\n",
    "# Set initial column names\n",
    "part2.columns = [\"Elf1\", \"Elf2\"]\n",
    "# Find out if Elf1 is disjoint (mutually exclusive) of Elf2\n",
    "# Disjoint is commutative, so no need to do the reverse calculation\n",
    "part2[\"Disjoint\"] = [ row.Elf1.isdisjoint(row.Elf2) for row in part2.itertuples(index=False) ] \n",
    "# Count the values. We're interested in the False count\n",
    "part2[\"Disjoint\"].value_counts()"
   ]
  },
  {
   "cell_type": "code",
   "execution_count": null,
   "id": "66d294bd",
   "metadata": {},
   "outputs": [],
   "source": []
  }
 ],
 "metadata": {
  "kernelspec": {
   "display_name": "Python 3 (ipykernel)",
   "language": "python",
   "name": "python3"
  },
  "language_info": {
   "codemirror_mode": {
    "name": "ipython",
    "version": 3
   },
   "file_extension": ".py",
   "mimetype": "text/x-python",
   "name": "python",
   "nbconvert_exporter": "python",
   "pygments_lexer": "ipython3",
   "version": "3.10.8"
  }
 },
 "nbformat": 4,
 "nbformat_minor": 5
}
